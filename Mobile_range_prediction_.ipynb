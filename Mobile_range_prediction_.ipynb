{
  "nbformat": 4,
  "nbformat_minor": 0,
  "metadata": {
    "colab": {
      "private_outputs": true,
      "provenance": [],
      "collapsed_sections": [
        "vncDsAP0Gaoa",
        "FJNUwmbgGyua",
        "w6K7xa23Elo4",
        "yQaldy8SH6Dl",
        "nA9Y7ga8ng1Z",
        "PBTbrJXOngz2",
        "u3PMJOP6ngxN",
        "dauF4eBmngu3",
        "bKJF3rekwFvQ",
        "GF8Ens_Soomf",
        "0wOQAZs5pc--",
        "K5QZ13OEpz2H",
        "lQ7QKXXCp7Bj",
        "448CDAPjqfQr",
        "KSlN3yHqYklG",
        "-JiQyfWJYklI",
        "EM7whBJCYoAo",
        "RoGjAbkUYoAp",
        "4Of9eVA-YrdM",
        "y-Ehk30pYrdP",
        "bamQiAODYuh1",
        "OH-pJp9IphqM",
        "bbFf2-_FphqN",
        "_ouA3fa0phqN",
        "Seke61FWphqN",
        "PIIx-8_IphqN",
        "r2jJGEOYphqO",
        "b0JNsNcRphqO",
        "BZR9WyysphqO",
        "jj7wYXLtphqO",
        "eZrbJ2SmphqO",
        "rFu4xreNphqO",
        "YJ55k-q6phqO",
        "gCFgpxoyphqP",
        "OVtJsKN_phqQ",
        "lssrdh5qphqQ",
        "U2RJ9gkRphqQ",
        "1M8mcRywphqQ",
        "tgIPom80phqQ",
        "g-ATYxFrGrvw",
        "Yfr_Vlr8HBkt",
        "8yEUt7NnHlrM",
        "tEA2Xm5dHt1r",
        "I79__PHVH19G",
        "Ou-I18pAyIpj",
        "fF3858GYyt-u",
        "4_0_7-oCpUZd",
        "hwyV_J3ipUZe",
        "3yB-zSqbpUZe",
        "dEUvejAfpUZe",
        "Fd15vwWVpUZf",
        "bn_IUdTipZyH",
        "49K5P_iCpZyH",
        "Nff-vKELpZyI",
        "kLW572S8pZyI",
        "dWbDXHzopZyI",
        "xiyOF9F70UgQ",
        "7wuGOrhz0itI",
        "c59f1erCXFPs",
        "578E2V7j08f6",
        "-oLEiFgy-5Pf",
        "2DejudWSA-a0",
        "pEMng2IbBLp7",
        "rAdphbQ9Bhjc",
        "TNVZ9zx19K6k",
        "nqoHp30x9hH9",
        "rMDnDkt2B6du",
        "1UUpS68QDMuG",
        "BhH2vgX9EjGr",
        "qjKvONjwE8ra",
        "P1XJ9OREExlT",
        "VFOzZv6IFROw",
        "OB4l2ZhMeS1U",
        "4qY1EAkEfxKe",
        "lwHmRr_z0416",
        "-jK_YjpMpsJ2",
        "FcHmyV-P0mUB",
        "Fze-IPXLpx6K",
        "7AN1z2sKpx6M",
        "9PIHJqyupx6M",
        "_-qAgymDpx6N",
        "jyZcPHAgc7Ps",
        "5Sb3QPg-9qoZ",
        "h_CCil-SKHpo",
        "cBFFvTBNJzUa",
        "HvGl1hHyA_VK",
        "gCX9965dhzqZ",
        "gIfDvo9L0UH2"
      ]
    },
    "kernelspec": {
      "name": "python3",
      "display_name": "Python 3"
    },
    "language_info": {
      "name": "python"
    }
  },
  "cells": [
    {
      "cell_type": "markdown",
      "source": [
        "# **Project Name**    - Mobile price range prediction\n",
        "\n"
      ],
      "metadata": {
        "id": "vncDsAP0Gaoa"
      }
    },
    {
      "cell_type": "markdown",
      "source": [
        "##### **Project Type**    - Classification\n",
        "##### **Contribution**    - Individual"
      ],
      "metadata": {
        "id": "beRrZCGUAJYm"
      }
    },
    {
      "cell_type": "markdown",
      "source": [
        "# **Project Summary -**"
      ],
      "metadata": {
        "id": "FJNUwmbgGyua"
      }
    },
    {
      "cell_type": "markdown",
      "source": [
        "This is the mobile data and providing the specifiaction of the mobile, and price range of the data. The project summary includes Data preprocessing , Exploratory Data Analysis,Implementation of Machine Learning Models. "
      ],
      "metadata": {
        "id": "F6v_1wHtG2nS"
      }
    },
    {
      "cell_type": "markdown",
      "source": [
        "# **GitHub Link -**"
      ],
      "metadata": {
        "id": "w6K7xa23Elo4"
      }
    },
    {
      "cell_type": "markdown",
      "source": [
        "https://github.com/Junedaktar/Capstone-3--Mobile-range-prediction.git"
      ],
      "metadata": {
        "id": "h1o69JH3Eqqn"
      }
    },
    {
      "cell_type": "markdown",
      "source": [
        "# **Problem Statement**\n"
      ],
      "metadata": {
        "id": "yQaldy8SH6Dl"
      }
    },
    {
      "cell_type": "markdown",
      "source": [
        " **In the competitive mobile phone market companies want to understand sales data of mobile phones and factors which drive the prices.\n",
        "The objective is to find out some relation between features of a mobile phone(eg:- RAM,Internal Memory, Camera etc) and its selling price. In this problem, we do not have to predict the actual price but a price range indicating how high the price is.**"
      ],
      "metadata": {
        "id": "DpeJGUA3kjGy"
      }
    },
    {
      "cell_type": "markdown",
      "source": [
        "# ***Let's Begin !***"
      ],
      "metadata": {
        "id": "O_i_v8NEhb9l"
      }
    },
    {
      "cell_type": "markdown",
      "source": [
        "## ***1. Know Your Data***"
      ],
      "metadata": {
        "id": "HhfV-JJviCcP"
      }
    },
    {
      "cell_type": "markdown",
      "source": [
        "### Import Libraries"
      ],
      "metadata": {
        "id": "Y3lxredqlCYt"
      }
    },
    {
      "cell_type": "code",
      "source": [
        "# Import Libraries\n",
        "import pandas as pd\n",
        "import numpy as np\n",
        "import seaborn as sns\n",
        "import matplotlib.pyplot as plt"
      ],
      "metadata": {
        "id": "M8Vqi-pPk-HR"
      },
      "execution_count": null,
      "outputs": []
    },
    {
      "cell_type": "markdown",
      "source": [
        "### Dataset Loading"
      ],
      "metadata": {
        "id": "3RnN4peoiCZX"
      }
    },
    {
      "cell_type": "code",
      "source": [
        "# Load Dataset\n",
        "df=pd.read_csv('/content/data_mobile_price_range.csv')"
      ],
      "metadata": {
        "id": "4CkvbW_SlZ_R"
      },
      "execution_count": null,
      "outputs": []
    },
    {
      "cell_type": "markdown",
      "source": [
        "### Dataset First View"
      ],
      "metadata": {
        "id": "x71ZqKXriCWQ"
      }
    },
    {
      "cell_type": "code",
      "source": [
        "# Dataset First Look\n",
        "df.head()"
      ],
      "metadata": {
        "id": "LWNFOSvLl09H"
      },
      "execution_count": null,
      "outputs": []
    },
    {
      "cell_type": "markdown",
      "source": [
        "### Dataset Rows & Columns count"
      ],
      "metadata": {
        "id": "7hBIi_osiCS2"
      }
    },
    {
      "cell_type": "code",
      "source": [
        "# Dataset Rows & Columns counts\n",
        "df.shape"
      ],
      "metadata": {
        "id": "Kllu7SJgmLij"
      },
      "execution_count": null,
      "outputs": []
    },
    {
      "cell_type": "markdown",
      "source": [
        "### Dataset Information"
      ],
      "metadata": {
        "id": "JlHwYmJAmNHm"
      }
    },
    {
      "cell_type": "code",
      "source": [
        "# Dataset Info\n",
        "df.info()"
      ],
      "metadata": {
        "id": "e9hRXRi6meOf"
      },
      "execution_count": null,
      "outputs": []
    },
    {
      "cell_type": "markdown",
      "source": [
        "#### Duplicate Values"
      ],
      "metadata": {
        "id": "35m5QtbWiB9F"
      }
    },
    {
      "cell_type": "code",
      "source": [
        "# Dataset Duplicate Value Count\n",
        "len(df[df.duplicated()])"
      ],
      "metadata": {
        "id": "1sLdpKYkmox0"
      },
      "execution_count": null,
      "outputs": []
    },
    {
      "cell_type": "markdown",
      "source": [
        "#### Missing Values/Null Values"
      ],
      "metadata": {
        "id": "PoPl-ycgm1ru"
      }
    },
    {
      "cell_type": "code",
      "source": [
        "# Missing Values/Null Values Count\n",
        "df.isnull().sum()"
      ],
      "metadata": {
        "id": "GgHWkxvamxVg"
      },
      "execution_count": null,
      "outputs": []
    },
    {
      "cell_type": "markdown",
      "source": [
        "## ***2. Understanding Your Variables***"
      ],
      "metadata": {
        "id": "nA9Y7ga8ng1Z"
      }
    },
    {
      "cell_type": "code",
      "source": [
        "# Dataset Columns\n",
        "df.columns"
      ],
      "metadata": {
        "id": "j7xfkqrt5Ag5"
      },
      "execution_count": null,
      "outputs": []
    },
    {
      "cell_type": "code",
      "source": [
        "# Dataset Describe\n",
        "df.describe()"
      ],
      "metadata": {
        "id": "DnOaZdaE5Q5t"
      },
      "execution_count": null,
      "outputs": []
    },
    {
      "cell_type": "markdown",
      "source": [
        "### Variables Description "
      ],
      "metadata": {
        "id": "PBTbrJXOngz2"
      }
    },
    {
      "cell_type": "markdown",
      "source": [
        "Battery_power - Total energy a battery can store in one time measured in MAH.\n",
        "\n",
        "Blue - Has bluetooth or not.\n",
        "\n",
        "Clock_speed - speed at which microprocessor executes instructions.\n",
        "\n",
        "Dual_sim - Has dual sim support or not.\n",
        "\n",
        "Fc - Front Camera mega pixels.\n",
        "\n",
        "Four_g - Has 4G or not.\n",
        "\n",
        "Int_memory - Internal Memory in Gigabytes.\n",
        "\n",
        "M_dep - Mobile Depth in cm.\n",
        "\n",
        "Mobile_wt - Weight of mobile phone.\n",
        "\n",
        "N_cores - Number of cores of processor.\n",
        "\n",
        "Pc - Primary Camera mega pixels.\n",
        "\n",
        "Px_height - Pixel Resolution Height.\n",
        "\n",
        "Px_width - Pixel Resolution Width.\n",
        "\n",
        "Ram - Random Access Memory in Mega Bytes.\n",
        "\n",
        "Sc_h - Screen Height of mobile in cm.\n",
        "\n",
        "Sc_w - Screen Width of mobile in cm.\n",
        "\n",
        "Talk_time - longest time that a single battery charge will last time.\n",
        "\n",
        "Three_g - Has 3G or not.\n",
        "\n",
        "Touch_screen - Has touch screen or not.\n",
        "\n",
        "Wifi - Has wifi or not.\n",
        "\n",
        "Price_range - This is the target variable with value of 0(low cost),1(medium cost),\n",
        "\n",
        "2(high cost) and 3(very high cost)."
      ],
      "metadata": {
        "id": "aJV4KIxSnxay"
      }
    },
    {
      "cell_type": "markdown",
      "source": [
        "### Check Unique Values for each variable."
      ],
      "metadata": {
        "id": "u3PMJOP6ngxN"
      }
    },
    {
      "cell_type": "code",
      "source": [
        "# Check Unique Values for each variable.\n",
        "df['battery_power'].unique()"
      ],
      "metadata": {
        "id": "zms12Yq5n-jE"
      },
      "execution_count": null,
      "outputs": []
    },
    {
      "cell_type": "code",
      "source": [
        "df['blue'].unique()"
      ],
      "metadata": {
        "id": "0X8Mw-6iVAB3"
      },
      "execution_count": null,
      "outputs": []
    },
    {
      "cell_type": "code",
      "source": [
        "df['clock_speed'].unique()"
      ],
      "metadata": {
        "id": "R6-Wr7MmVFD_"
      },
      "execution_count": null,
      "outputs": []
    },
    {
      "cell_type": "code",
      "source": [
        "df['dual_sim'].unique()"
      ],
      "metadata": {
        "id": "YvLhABFFVNWH"
      },
      "execution_count": null,
      "outputs": []
    },
    {
      "cell_type": "code",
      "source": [
        "df['fc'].unique()"
      ],
      "metadata": {
        "id": "7kr5UlMLVN-H"
      },
      "execution_count": null,
      "outputs": []
    },
    {
      "cell_type": "code",
      "source": [
        "df['four_g'].unique()"
      ],
      "metadata": {
        "id": "T00mX950VOaH"
      },
      "execution_count": null,
      "outputs": []
    },
    {
      "cell_type": "code",
      "source": [
        "df['int_memory'].unique()"
      ],
      "metadata": {
        "id": "UsCX_H_YVO5m"
      },
      "execution_count": null,
      "outputs": []
    },
    {
      "cell_type": "code",
      "source": [
        "df['m_dep'].unique()"
      ],
      "metadata": {
        "id": "Q7smxAQuVPZW"
      },
      "execution_count": null,
      "outputs": []
    },
    {
      "cell_type": "code",
      "source": [
        "df['mobile_wt'].unique()"
      ],
      "metadata": {
        "id": "FQ0Ndrj4VP7v"
      },
      "execution_count": null,
      "outputs": []
    },
    {
      "cell_type": "code",
      "source": [
        "df['n_cores'].unique()"
      ],
      "metadata": {
        "id": "ddO0AMjBVpY3"
      },
      "execution_count": null,
      "outputs": []
    },
    {
      "cell_type": "code",
      "source": [
        "df['pc'].unique()"
      ],
      "metadata": {
        "id": "LqflUH95VtJX"
      },
      "execution_count": null,
      "outputs": []
    },
    {
      "cell_type": "code",
      "source": [
        "df['px_height'].unique()"
      ],
      "metadata": {
        "id": "_Zf4Ysq4VusO"
      },
      "execution_count": null,
      "outputs": []
    },
    {
      "cell_type": "code",
      "source": [
        "df['px_width'].unique()"
      ],
      "metadata": {
        "id": "jhOK8NzzV1FW"
      },
      "execution_count": null,
      "outputs": []
    },
    {
      "cell_type": "code",
      "source": [
        "df['ram'].unique()"
      ],
      "metadata": {
        "id": "sMdu9CegV3N1"
      },
      "execution_count": null,
      "outputs": []
    },
    {
      "cell_type": "code",
      "source": [
        "df['sc_h'].unique()"
      ],
      "metadata": {
        "id": "Qq9Qssz1WCn2"
      },
      "execution_count": null,
      "outputs": []
    },
    {
      "cell_type": "code",
      "source": [
        "df['talk_time'].unique()"
      ],
      "metadata": {
        "id": "7_zN1q9IWLYu"
      },
      "execution_count": null,
      "outputs": []
    },
    {
      "cell_type": "code",
      "source": [
        "df['sc_w'].unique()"
      ],
      "metadata": {
        "id": "DIasJk9DWOj1"
      },
      "execution_count": null,
      "outputs": []
    },
    {
      "cell_type": "code",
      "source": [
        "df['three_g'].unique()"
      ],
      "metadata": {
        "id": "O6-cKs8JWUoe"
      },
      "execution_count": null,
      "outputs": []
    },
    {
      "cell_type": "code",
      "source": [
        "df['touch_screen'].unique()"
      ],
      "metadata": {
        "id": "RdFTxlYuWmON"
      },
      "execution_count": null,
      "outputs": []
    },
    {
      "cell_type": "code",
      "source": [
        "df['wifi'].unique()"
      ],
      "metadata": {
        "id": "NqB1SvSVWvY-"
      },
      "execution_count": null,
      "outputs": []
    },
    {
      "cell_type": "code",
      "source": [
        "df['price_range'].unique()"
      ],
      "metadata": {
        "id": "0Tm-ZFUiWyam"
      },
      "execution_count": null,
      "outputs": []
    },
    {
      "cell_type": "markdown",
      "source": [
        "## 3. ***Data Wrangling***"
      ],
      "metadata": {
        "id": "dauF4eBmngu3"
      }
    },
    {
      "cell_type": "markdown",
      "source": [
        "### Data Wrangling Code"
      ],
      "metadata": {
        "id": "bKJF3rekwFvQ"
      }
    },
    {
      "cell_type": "code",
      "source": [
        "# Checking How many observations having sc_w value as 0.\n",
        "df[df['sc_w']==0]"
      ],
      "metadata": {
        "id": "wk-9a2fpoLcV"
      },
      "execution_count": null,
      "outputs": []
    },
    {
      "cell_type": "code",
      "source": [
        "# Checking How many observations having px_height value as 0.\n",
        "df[df['px_height']==0]"
      ],
      "metadata": {
        "id": "AAGMKSc1Yahl"
      },
      "execution_count": null,
      "outputs": []
    },
    {
      "cell_type": "code",
      "source": [
        "# Where px_height and sc_w value is 0, assigning them with mean value\n",
        "df['sc_w'][df['sc_w']==0]=int(df['sc_w'].mean()) "
      ],
      "metadata": {
        "id": "dZ9p9OQlZLW9"
      },
      "execution_count": null,
      "outputs": []
    },
    {
      "cell_type": "code",
      "source": [
        "df['px_height'][df['px_height']==0]=int(df['px_height'].mean()) "
      ],
      "metadata": {
        "id": "m7zROqbAczDr"
      },
      "execution_count": null,
      "outputs": []
    },
    {
      "cell_type": "code",
      "source": [
        "df['px_height'][df['px_height']==20]=int(df['px_height'].mean())"
      ],
      "metadata": {
        "id": "HEdQdISqdhIC"
      },
      "execution_count": null,
      "outputs": []
    },
    {
      "cell_type": "markdown",
      "source": [
        "### What all manipulations have you done and insights you found?"
      ],
      "metadata": {
        "id": "MSa1f5Uengrz"
      }
    },
    {
      "cell_type": "markdown",
      "source": [
        "Answer Here."
      ],
      "metadata": {
        "id": "LbyXE7I1olp8"
      }
    },
    {
      "cell_type": "markdown",
      "source": [
        "## ***4. Data Vizualization, Storytelling & Experimenting with charts : Understand the relationships between variables***"
      ],
      "metadata": {
        "id": "GF8Ens_Soomf"
      }
    },
    {
      "cell_type": "markdown",
      "source": [
        "From the above data here it we shows that,\n",
        "Our dependent variable is price_range and we have four price ranges as target our values.\n",
        "This dataset is a balanced dataset, i.e., each class has nearly 500 mobile phones.\n",
        "(0 -> low cost, 1 -> medium cost, 2 -> high cost, 3 -> very high cost)."
      ],
      "metadata": {
        "id": "XaHsgLGjKEEN"
      }
    },
    {
      "cell_type": "markdown",
      "source": [
        "#### Chart - 1"
      ],
      "metadata": {
        "id": "0wOQAZs5pc--"
      }
    },
    {
      "cell_type": "code",
      "source": [
        "# lets have look at our target variable's counts\n",
        "data=df['price_range'].value_counts()"
      ],
      "metadata": {
        "id": "yQ1cknnog5FJ"
      },
      "execution_count": null,
      "outputs": []
    },
    {
      "cell_type": "code",
      "source": [
        "# visualization code\n",
        "labelling = ['Low-Cost', 'Medium-Cost', 'High-Cost', 'VeryHigh-Cost']\n",
        "plt.figure(figsize=(10,10))\n",
        "plt.pie(data,labels=labelling,explode=[0.1,0.1,0.1,0.1],autopct='%.1f%%')"
      ],
      "metadata": {
        "id": "7v_ESjsspbW7"
      },
      "execution_count": null,
      "outputs": []
    },
    {
      "cell_type": "markdown",
      "source": [
        "##### 1. Why did you pick the specific chart?"
      ],
      "metadata": {
        "id": "K5QZ13OEpz2H"
      }
    },
    {
      "cell_type": "markdown",
      "source": [
        "In pie chat we can check how the cost data is differ"
      ],
      "metadata": {
        "id": "XESiWehPqBRc"
      }
    },
    {
      "cell_type": "markdown",
      "source": [
        "##### 2. What is/are the insight(s) found from the chart?"
      ],
      "metadata": {
        "id": "lQ7QKXXCp7Bj"
      }
    },
    {
      "cell_type": "markdown",
      "source": [
        "Here we shows that count of in each category of price range is similiar ."
      ],
      "metadata": {
        "id": "C_j1G7yiqdRP"
      }
    },
    {
      "cell_type": "markdown",
      "source": [
        "##### 3. Will the gained insights help creating a positive business impact? \n",
        "Are there any insights that lead to negative growth? Justify with specific reason."
      ],
      "metadata": {
        "id": "448CDAPjqfQr"
      }
    },
    {
      "cell_type": "markdown",
      "source": [
        "Answer Here"
      ],
      "metadata": {
        "id": "3cspy4FjqxJW"
      }
    },
    {
      "cell_type": "markdown",
      "source": [
        "#### Chart - 2"
      ],
      "metadata": {
        "id": "KSlN3yHqYklG"
      }
    },
    {
      "cell_type": "code",
      "source": [
        "# Chart - 2 visualization code\n",
        "plt.figure(figsize=(15,8))\n",
        "sns.barplot(x=df['price_range'],y=df['ram'])\n",
        "plt.title('Price range vs Ram')\n",
        "plt.xlabel('Price range')\n",
        "plt.ylabel('Ram')"
      ],
      "metadata": {
        "id": "R4YgtaqtYklH"
      },
      "execution_count": null,
      "outputs": []
    },
    {
      "cell_type": "markdown",
      "source": [
        "##### 1. Why did you pick the specific chart?"
      ],
      "metadata": {
        "id": "t6dVpIINYklI"
      }
    },
    {
      "cell_type": "markdown",
      "source": [
        "Using this Bar plot it shows that how Ram impact on the mobile price range"
      ],
      "metadata": {
        "id": "5aaW0BYyYklI"
      }
    },
    {
      "cell_type": "markdown",
      "source": [
        "##### 2. What is/are the insight(s) found from the chart?"
      ],
      "metadata": {
        "id": "ijmpgYnKYklI"
      }
    },
    {
      "cell_type": "markdown",
      "source": [
        "Using this Bar plot it shows that as far as RAM specifications such as bytes are increase ,then price range is also increased. As i can check there is positive correlation seems between these variables."
      ],
      "metadata": {
        "id": "PSx9atu2YklI"
      }
    },
    {
      "cell_type": "markdown",
      "source": [
        "##### 3. Will the gained insights help creating a positive business impact? \n",
        "Are there any insights that lead to negative growth? Justify with specific reason."
      ],
      "metadata": {
        "id": "-JiQyfWJYklI"
      }
    },
    {
      "cell_type": "markdown",
      "source": [
        "Answer Here"
      ],
      "metadata": {
        "id": "BcBbebzrYklV"
      }
    },
    {
      "cell_type": "markdown",
      "source": [
        "#### Chart - 3"
      ],
      "metadata": {
        "id": "EM7whBJCYoAo"
      }
    },
    {
      "cell_type": "code",
      "source": [
        "# Chart - 3 visualization code\n",
        "plt.figure(figsize=(15,10))\n",
        "sns.barplot(x=df['price_range'],y=df['battery_power'])\n",
        "plt.title('Price range vs battery power')\n",
        "plt.xlabel('Price range')\n",
        "plt.ylabel('Battery power')"
      ],
      "metadata": {
        "id": "t6GMdE67YoAp"
      },
      "execution_count": null,
      "outputs": []
    },
    {
      "cell_type": "markdown",
      "source": [
        "##### 1. Why did you pick the specific chart?"
      ],
      "metadata": {
        "id": "fge-S5ZAYoAp"
      }
    },
    {
      "cell_type": "markdown",
      "source": [
        "Bar plot helps to relationship between the two variables"
      ],
      "metadata": {
        "id": "5dBItgRVYoAp"
      }
    },
    {
      "cell_type": "markdown",
      "source": [
        "##### 2. What is/are the insight(s) found from the chart?"
      ],
      "metadata": {
        "id": "85gYPyotYoAp"
      }
    },
    {
      "cell_type": "markdown",
      "source": [
        "Mobiles with battery power more than 1300 MAH has very high cost. And Mobiles with battery power between 1200 and 1300 MAH falls under medium and high cost category."
      ],
      "metadata": {
        "id": "4jstXR6OYoAp"
      }
    },
    {
      "cell_type": "markdown",
      "source": [
        "##### 3. Will the gained insights help creating a positive business impact? \n",
        "Are there any insights that lead to negative growth? Justify with specific reason."
      ],
      "metadata": {
        "id": "RoGjAbkUYoAp"
      }
    },
    {
      "cell_type": "markdown",
      "source": [
        "Answer Here"
      ],
      "metadata": {
        "id": "zfJ8IqMcYoAp"
      }
    },
    {
      "cell_type": "markdown",
      "source": [
        "#### Chart - 4"
      ],
      "metadata": {
        "id": "4Of9eVA-YrdM"
      }
    },
    {
      "cell_type": "code",
      "source": [
        "# Chart - 4 visualization code\n",
        "variables=['sc_h','sc_w','px_height','px_width']\n",
        "plt.figure(figsize=(20,12))\n",
        "row=2\n",
        "column=2\n",
        "counter=1\n",
        "for val in variables:\n",
        "  plt.subplot(row,column,counter)\n",
        "  sns.barplot(x=df['price_range'],y=df[val])\n",
        "  plt.title(f'Price range vs {val}')\n",
        "  plt.xlabel('Price range')\n",
        "  plt.ylabel(f'{val}')\n",
        "  counter=counter+1"
      ],
      "metadata": {
        "id": "irlUoxc8YrdO"
      },
      "execution_count": null,
      "outputs": []
    },
    {
      "cell_type": "markdown",
      "source": [
        "##### 1. Why did you pick the specific chart?"
      ],
      "metadata": {
        "id": "iky9q4vBYrdO"
      }
    },
    {
      "cell_type": "markdown",
      "source": [
        "Bar plot helps to relationship between the two variables"
      ],
      "metadata": {
        "id": "aJRCwT6DYrdO"
      }
    },
    {
      "cell_type": "markdown",
      "source": [
        "##### 2. What is/are the insight(s) found from the chart?"
      ],
      "metadata": {
        "id": "F6T5p64dYrdO"
      }
    },
    {
      "cell_type": "markdown",
      "source": [
        "Mobiles with more than 700 pixel height and width more than 1300 width has very high cost. Mobiles screen height and width has some impact on price range."
      ],
      "metadata": {
        "id": "Xx8WAJvtYrdO"
      }
    },
    {
      "cell_type": "markdown",
      "source": [
        "##### 3. Will the gained insights help creating a positive business impact? \n",
        "Are there any insights that lead to negative growth? Justify with specific reason."
      ],
      "metadata": {
        "id": "y-Ehk30pYrdP"
      }
    },
    {
      "cell_type": "markdown",
      "source": [
        "Answer Here"
      ],
      "metadata": {
        "id": "jLNxxz7MYrdP"
      }
    },
    {
      "cell_type": "markdown",
      "source": [
        "#### Chart - 5"
      ],
      "metadata": {
        "id": "bamQiAODYuh1"
      }
    },
    {
      "cell_type": "code",
      "source": [
        "# Chart - 5 visualization code\n",
        "variable=['blue','three_g','four_g','wifi','dual_sim','touch_screen']\n",
        "plt.figure(figsize=(20,15))\n",
        "row=3\n",
        "column=2\n",
        "counter=1\n",
        "\n",
        "for v in variable:\n",
        "  plt.subplot(row,column,counter)\n",
        "  plt.pie(df[v].value_counts(),labels=df[v].unique(),autopct='%.1f%%')\n",
        "  plt.title(f'{v}')\n",
        "  counter=counter+1"
      ],
      "metadata": {
        "id": "TIJwrbroYuh3"
      },
      "execution_count": null,
      "outputs": []
    },
    {
      "cell_type": "markdown",
      "source": [
        "##### 1. Why did you pick the specific chart?"
      ],
      "metadata": {
        "id": "QHF8YVU7Yuh3"
      }
    },
    {
      "cell_type": "markdown",
      "source": [
        "Within pie chat we can check how data is spread with different variables."
      ],
      "metadata": {
        "id": "dcxuIMRPYuh3"
      }
    },
    {
      "cell_type": "markdown",
      "source": [
        "##### 2. What is/are the insight(s) found from the chart?"
      ],
      "metadata": {
        "id": "GwzvFGzlYuh3"
      }
    },
    {
      "cell_type": "markdown",
      "source": [
        "Blue colour indicates it has the specifications,while orange colour indicates it do not have the specifications.\n",
        "All features has plotted the above pie chart shows nearly 50 percent equality except 3G sim card feature, which shows nearly 76 percent mobile phones who supports the 3g ."
      ],
      "metadata": {
        "id": "uyqkiB8YYuh3"
      }
    },
    {
      "cell_type": "markdown",
      "source": [
        "#### Chart - 6"
      ],
      "metadata": {
        "id": "OH-pJp9IphqM"
      }
    },
    {
      "cell_type": "code",
      "source": [
        "# Chart - 6 visualization code\n",
        "feature=['clock_speed','fc','int_memory','m_dep','mobile_wt','pc','n_cores','talk_time']\n",
        "for v in feature:\n",
        "  plt.figure(figsize=(12,8))\n",
        "  sns.lineplot(x=df['price_range'],y=df[v])\n",
        "  plt.title(f'Price range vs {v}')\n",
        "  plt.xlabel('Price range')\n",
        "  plt.ylabel(f'{v}')"
      ],
      "metadata": {
        "id": "kuRf4wtuphqN"
      },
      "execution_count": null,
      "outputs": []
    },
    {
      "cell_type": "markdown",
      "source": [
        "##### 1. Why did you pick the specific chart?"
      ],
      "metadata": {
        "id": "bbFf2-_FphqN"
      }
    },
    {
      "cell_type": "markdown",
      "source": [
        "Answer Here."
      ],
      "metadata": {
        "id": "loh7H2nzphqN"
      }
    },
    {
      "cell_type": "markdown",
      "source": [
        "##### 2. What is/are the insight(s) found from the chart?"
      ],
      "metadata": {
        "id": "_ouA3fa0phqN"
      }
    },
    {
      "cell_type": "markdown",
      "source": [
        "Answer Here"
      ],
      "metadata": {
        "id": "VECbqPI7phqN"
      }
    },
    {
      "cell_type": "markdown",
      "source": [
        "##### 3. Will the gained insights help creating a positive business impact? \n",
        "Are there any insights that lead to negative growth? Justify with specific reason."
      ],
      "metadata": {
        "id": "Seke61FWphqN"
      }
    },
    {
      "cell_type": "markdown",
      "source": [
        "Answer Here"
      ],
      "metadata": {
        "id": "DW4_bGpfphqN"
      }
    },
    {
      "cell_type": "markdown",
      "source": [
        "#### Chart - 7"
      ],
      "metadata": {
        "id": "PIIx-8_IphqN"
      }
    },
    {
      "cell_type": "code",
      "source": [
        "# Chart - 7 visualization code\n",
        "plt.figure(figsize=(20,15))\n",
        "data=df.corr()\n",
        "sns.heatmap(data,annot=True,cmap='coolwarm')"
      ],
      "metadata": {
        "id": "lqAIGUfyphqO"
      },
      "execution_count": null,
      "outputs": []
    },
    {
      "cell_type": "markdown",
      "source": [
        "##### 1. Why did you pick the specific chart?"
      ],
      "metadata": {
        "id": "t27r6nlMphqO"
      }
    },
    {
      "cell_type": "markdown",
      "source": [
        "Heat map shows the correlation between the variables"
      ],
      "metadata": {
        "id": "iv6ro40sphqO"
      }
    },
    {
      "cell_type": "markdown",
      "source": [
        "##### 2. What is/are the insight(s) found from the chart?"
      ],
      "metadata": {
        "id": "r2jJGEOYphqO"
      }
    },
    {
      "cell_type": "markdown",
      "source": [
        "The above plot shows the correlation of variables among between them.\n",
        "\n",
        "1. Ram(Random Access Memory) relation with price_range - RAM is the highest correlate with price of mobile phone so,it shows that it is most important and expensive feature respect to remaining all features.\n",
        "\n",
        "2. fc(Front Camera mega pixels) relation with pc(Primary Camera mega pixels) -The relationship between front and back camera depends on the device design and its intended use, and can vary greatly from one device to another.\n",
        "If a phone has a great rear camera, it has to match great standards for the front camera as well.\n",
        "\n",
        "3. Battery power relation wih price of mobile phone - The battery of mobile is slightly positive impact on mobile because ,mobile phone's battery technology can also impact its overall performance and user experience.\n",
        "Battery is managed by the phone's software and hardware can also affect its performance and lifespan.\n",
        "Battery_power also has positive correlation with the price range.Generally mobiles having high prices comes with good battery power.\n",
        "\n",
        "4. latest version four_g(4G) and existing version three_g(3G) - 4g is the latest version of mobile phone, If the phone supports 4g version it means 3g version is already exist in mobile phone and also compatible with this .\n",
        "\n",
        "5. px_height and px_width -(Pixel Resolution Height and width) are positively correlated with price range.Generally High price range mobiles have good resolutions.\n",
        "\n",
        "6. The Ram size and Battery power -This shows indirect (Negative) co-relationship ,from the above plot its shows that the ram size and battery power have very less correlate with each other.\n",
        "The larger the ram size the more power a mobile device will consume.\n",
        "\n",
        "7. sc_h and sc_w - It shows positively correlated with each other,\n",
        "\n",
        "8. Mobile weight and its pixel width - It shows exponentially correlate with each other ,it shows that the effect of pixel width on mobile weight is negligible.\n",
        "\n",
        "9. mobile depth and price range - This features are less correlate with each other it shows that the depth of mobile phone is not significantly effect on its price range as compared to RAM,Battery power,Display resolution ,camera ."
      ],
      "metadata": {
        "id": "Po6ZPi4hphqO"
      }
    },
    {
      "cell_type": "markdown",
      "source": [
        "##### 3. Will the gained insights help creating a positive business impact? \n",
        "Are there any insights that lead to negative growth? Justify with specific reason."
      ],
      "metadata": {
        "id": "b0JNsNcRphqO"
      }
    },
    {
      "cell_type": "markdown",
      "source": [
        "Answer Here"
      ],
      "metadata": {
        "id": "xvSq8iUTphqO"
      }
    },
    {
      "cell_type": "markdown",
      "source": [
        "#### Chart - 8"
      ],
      "metadata": {
        "id": "BZR9WyysphqO"
      }
    },
    {
      "cell_type": "code",
      "source": [
        "# Chart - 8 visualization code"
      ],
      "metadata": {
        "id": "TdPTWpAVphqO"
      },
      "execution_count": null,
      "outputs": []
    },
    {
      "cell_type": "markdown",
      "source": [
        "##### 1. Why did you pick the specific chart?"
      ],
      "metadata": {
        "id": "jj7wYXLtphqO"
      }
    },
    {
      "cell_type": "markdown",
      "source": [
        "Answer Here."
      ],
      "metadata": {
        "id": "Ob8u6rCTphqO"
      }
    },
    {
      "cell_type": "markdown",
      "source": [
        "##### 2. What is/are the insight(s) found from the chart?"
      ],
      "metadata": {
        "id": "eZrbJ2SmphqO"
      }
    },
    {
      "cell_type": "markdown",
      "source": [
        "Answer Here"
      ],
      "metadata": {
        "id": "mZtgC_hjphqO"
      }
    },
    {
      "cell_type": "markdown",
      "source": [
        "##### 3. Will the gained insights help creating a positive business impact? \n",
        "Are there any insights that lead to negative growth? Justify with specific reason."
      ],
      "metadata": {
        "id": "rFu4xreNphqO"
      }
    },
    {
      "cell_type": "markdown",
      "source": [
        "Answer Here"
      ],
      "metadata": {
        "id": "ey_0qi68phqO"
      }
    },
    {
      "cell_type": "markdown",
      "source": [
        "#### Chart - 9"
      ],
      "metadata": {
        "id": "YJ55k-q6phqO"
      }
    },
    {
      "cell_type": "code",
      "source": [
        "# Chart - 9 visualization code"
      ],
      "metadata": {
        "id": "B2aS4O1ophqO"
      },
      "execution_count": null,
      "outputs": []
    },
    {
      "cell_type": "markdown",
      "source": [
        "##### 1. Why did you pick the specific chart?"
      ],
      "metadata": {
        "id": "gCFgpxoyphqP"
      }
    },
    {
      "cell_type": "markdown",
      "source": [
        "Answer Here."
      ],
      "metadata": {
        "id": "TVxDimi2phqP"
      }
    },
    {
      "cell_type": "markdown",
      "source": [
        "##### 2. What is/are the insight(s) found from the chart?"
      ],
      "metadata": {
        "id": "OVtJsKN_phqQ"
      }
    },
    {
      "cell_type": "markdown",
      "source": [
        "Answer Here"
      ],
      "metadata": {
        "id": "ngGi97qjphqQ"
      }
    },
    {
      "cell_type": "markdown",
      "source": [
        "##### 3. Will the gained insights help creating a positive business impact? \n",
        "Are there any insights that lead to negative growth? Justify with specific reason."
      ],
      "metadata": {
        "id": "lssrdh5qphqQ"
      }
    },
    {
      "cell_type": "markdown",
      "source": [
        "Answer Here"
      ],
      "metadata": {
        "id": "tBpY5ekJphqQ"
      }
    },
    {
      "cell_type": "markdown",
      "source": [
        "#### Chart - 10"
      ],
      "metadata": {
        "id": "U2RJ9gkRphqQ"
      }
    },
    {
      "cell_type": "code",
      "source": [
        "# Chart - 10 visualization code"
      ],
      "metadata": {
        "id": "GM7a4YP4phqQ"
      },
      "execution_count": null,
      "outputs": []
    },
    {
      "cell_type": "markdown",
      "source": [
        "##### 1. Why did you pick the specific chart?"
      ],
      "metadata": {
        "id": "1M8mcRywphqQ"
      }
    },
    {
      "cell_type": "markdown",
      "source": [
        "Answer Here."
      ],
      "metadata": {
        "id": "8agQvks0phqQ"
      }
    },
    {
      "cell_type": "markdown",
      "source": [
        "##### 2. What is/are the insight(s) found from the chart?"
      ],
      "metadata": {
        "id": "tgIPom80phqQ"
      }
    },
    {
      "cell_type": "markdown",
      "source": [
        "Answer Here"
      ],
      "metadata": {
        "id": "Qp13pnNzphqQ"
      }
    },
    {
      "cell_type": "markdown",
      "source": [
        "##### 3. Will the gained insights help creating a positive business impact? \n",
        "Are there any insights that lead to negative growth? Justify with specific reason."
      ],
      "metadata": {
        "id": "JMzcOPDDphqR"
      }
    },
    {
      "cell_type": "markdown",
      "source": [
        "Answer Here"
      ],
      "metadata": {
        "id": "R4Ka1PC2phqR"
      }
    },
    {
      "cell_type": "markdown",
      "source": [
        "## ***5. Hypothesis Testing***"
      ],
      "metadata": {
        "id": "g-ATYxFrGrvw"
      }
    },
    {
      "cell_type": "markdown",
      "source": [
        "### Based on your chart experiments, define three hypothetical statements from the dataset. In the next three questions, perform hypothesis testing to obtain final conclusion about the statements through your code and statistical testing."
      ],
      "metadata": {
        "id": "Yfr_Vlr8HBkt"
      }
    },
    {
      "cell_type": "markdown",
      "source": [
        "Answer Here."
      ],
      "metadata": {
        "id": "-7MS06SUHkB-"
      }
    },
    {
      "cell_type": "markdown",
      "source": [
        "### Hypothetical Statement - 1"
      ],
      "metadata": {
        "id": "8yEUt7NnHlrM"
      }
    },
    {
      "cell_type": "markdown",
      "source": [
        "#### 1. State Your research hypothesis as a null hypothesis and alternate hypothesis."
      ],
      "metadata": {
        "id": "tEA2Xm5dHt1r"
      }
    },
    {
      "cell_type": "markdown",
      "source": [
        "Answer Here."
      ],
      "metadata": {
        "id": "HI9ZP0laH0D-"
      }
    },
    {
      "cell_type": "markdown",
      "source": [
        "#### 2. Perform an appropriate statistical test."
      ],
      "metadata": {
        "id": "I79__PHVH19G"
      }
    },
    {
      "cell_type": "code",
      "source": [
        "# Perform Statistical Test to obtain P-Value"
      ],
      "metadata": {
        "id": "oZrfquKtyian"
      },
      "execution_count": null,
      "outputs": []
    },
    {
      "cell_type": "markdown",
      "source": [
        "##### Which statistical test have you done to obtain P-Value?"
      ],
      "metadata": {
        "id": "Ou-I18pAyIpj"
      }
    },
    {
      "cell_type": "markdown",
      "source": [
        "Answer Here."
      ],
      "metadata": {
        "id": "s2U0kk00ygSB"
      }
    },
    {
      "cell_type": "markdown",
      "source": [
        "##### Why did you choose the specific statistical test?"
      ],
      "metadata": {
        "id": "fF3858GYyt-u"
      }
    },
    {
      "cell_type": "markdown",
      "source": [
        "Answer Here."
      ],
      "metadata": {
        "id": "HO4K0gP5y3B4"
      }
    },
    {
      "cell_type": "markdown",
      "source": [
        "### Hypothetical Statement - 2"
      ],
      "metadata": {
        "id": "4_0_7-oCpUZd"
      }
    },
    {
      "cell_type": "markdown",
      "source": [
        "#### 1. State Your research hypothesis as a null hypothesis and alternate hypothesis."
      ],
      "metadata": {
        "id": "hwyV_J3ipUZe"
      }
    },
    {
      "cell_type": "markdown",
      "source": [
        "Answer Here."
      ],
      "metadata": {
        "id": "FnpLGJ-4pUZe"
      }
    },
    {
      "cell_type": "markdown",
      "source": [
        "#### 2. Perform an appropriate statistical test."
      ],
      "metadata": {
        "id": "3yB-zSqbpUZe"
      }
    },
    {
      "cell_type": "code",
      "source": [
        "# Perform Statistical Test to obtain P-Value"
      ],
      "metadata": {
        "id": "sWxdNTXNpUZe"
      },
      "execution_count": null,
      "outputs": []
    },
    {
      "cell_type": "markdown",
      "source": [
        "##### Which statistical test have you done to obtain P-Value?"
      ],
      "metadata": {
        "id": "dEUvejAfpUZe"
      }
    },
    {
      "cell_type": "markdown",
      "source": [
        "Answer Here."
      ],
      "metadata": {
        "id": "oLDrPz7HpUZf"
      }
    },
    {
      "cell_type": "markdown",
      "source": [
        "##### Why did you choose the specific statistical test?"
      ],
      "metadata": {
        "id": "Fd15vwWVpUZf"
      }
    },
    {
      "cell_type": "markdown",
      "source": [
        "Answer Here."
      ],
      "metadata": {
        "id": "4xOGYyiBpUZf"
      }
    },
    {
      "cell_type": "markdown",
      "source": [
        "### Hypothetical Statement - 3"
      ],
      "metadata": {
        "id": "bn_IUdTipZyH"
      }
    },
    {
      "cell_type": "markdown",
      "source": [
        "#### 1. State Your research hypothesis as a null hypothesis and alternate hypothesis."
      ],
      "metadata": {
        "id": "49K5P_iCpZyH"
      }
    },
    {
      "cell_type": "markdown",
      "source": [
        "Answer Here."
      ],
      "metadata": {
        "id": "7gWI5rT9pZyH"
      }
    },
    {
      "cell_type": "markdown",
      "source": [
        "#### 2. Perform an appropriate statistical test."
      ],
      "metadata": {
        "id": "Nff-vKELpZyI"
      }
    },
    {
      "cell_type": "code",
      "source": [
        "# Perform Statistical Test to obtain P-Value"
      ],
      "metadata": {
        "id": "s6AnJQjtpZyI"
      },
      "execution_count": null,
      "outputs": []
    },
    {
      "cell_type": "markdown",
      "source": [
        "##### Which statistical test have you done to obtain P-Value?"
      ],
      "metadata": {
        "id": "kLW572S8pZyI"
      }
    },
    {
      "cell_type": "markdown",
      "source": [
        "Answer Here."
      ],
      "metadata": {
        "id": "ytWJ8v15pZyI"
      }
    },
    {
      "cell_type": "markdown",
      "source": [
        "##### Why did you choose the specific statistical test?"
      ],
      "metadata": {
        "id": "dWbDXHzopZyI"
      }
    },
    {
      "cell_type": "markdown",
      "source": [
        "Answer Here."
      ],
      "metadata": {
        "id": "M99G98V6pZyI"
      }
    },
    {
      "cell_type": "markdown",
      "source": [
        "## ***6. Feature Engineering & Data Pre-processing***"
      ],
      "metadata": {
        "id": "yLjJCtPM0KBk"
      }
    },
    {
      "cell_type": "markdown",
      "source": [
        "### 1. Handling Missing Values"
      ],
      "metadata": {
        "id": "xiyOF9F70UgQ"
      }
    },
    {
      "cell_type": "code",
      "source": [
        "# Handling Missing Values & Missing Value Imputation\n",
        "df.isnull().sum()"
      ],
      "metadata": {
        "id": "iRsAHk1K0fpS"
      },
      "execution_count": null,
      "outputs": []
    },
    {
      "cell_type": "markdown",
      "source": [
        "#### What all missing value imputation techniques have you used and why did you use those techniques?"
      ],
      "metadata": {
        "id": "7wuGOrhz0itI"
      }
    },
    {
      "cell_type": "markdown",
      "source": [
        "Answer Here."
      ],
      "metadata": {
        "id": "1ixusLtI0pqI"
      }
    },
    {
      "cell_type": "markdown",
      "source": [
        "### 2. Handling Outliers"
      ],
      "metadata": {
        "id": "id1riN9m0vUs"
      }
    },
    {
      "cell_type": "code",
      "source": [
        "# Handling Outliers & Outlier treatments\n",
        "feature=['battery_power','clock_speed', 'fc', 'int_memory', 'm_dep', 'mobile_wt', 'n_cores', 'pc', 'px_height','px_width', 'ram', 'sc_h', 'sc_w', 'talk_time']\n",
        "for f in feature:\n",
        "  plt.figure(figsize=(10,8))\n",
        "  plt.boxplot(df[f])\n",
        "  plt.title(f'{f}')"
      ],
      "metadata": {
        "id": "M6w2CzZf04JK"
      },
      "execution_count": null,
      "outputs": []
    },
    {
      "cell_type": "markdown",
      "source": [
        "##### Removing the Outliers "
      ],
      "metadata": {
        "id": "c59f1erCXFPs"
      }
    },
    {
      "cell_type": "code",
      "source": [
        "Q1 = df[\"fc\"].quantile(0.25)\n",
        "Q3 = df['fc'].quantile(0.99)\n",
        "Inter_Quartile_Range = Q3-Q1\n",
        "\n",
        "# Outliers are present after Quartile 3. so we will take datapoints before Q3.\n",
        "df= df[(df['fc'] <= Q3)]"
      ],
      "metadata": {
        "id": "VgBMfyVDXn6T"
      },
      "execution_count": null,
      "outputs": []
    },
    {
      "cell_type": "code",
      "source": [
        "Q1 = df[\"px_height\"].quantile(0.25)\n",
        "Q3 = df['px_height'].quantile(0.99)\n",
        "IQR = Q3-Q1\n",
        "\n",
        "# Outliers are present after Quartile 3. so we will take datapoints before Q3.\n",
        "df = df[(df['px_height'] <= Q3)]"
      ],
      "metadata": {
        "id": "bAqrTWGNXsU0"
      },
      "execution_count": null,
      "outputs": []
    },
    {
      "cell_type": "markdown",
      "source": [
        "##### What all outlier treatment techniques have you used and why did you use those techniques?"
      ],
      "metadata": {
        "id": "578E2V7j08f6"
      }
    },
    {
      "cell_type": "markdown",
      "source": [
        "There is no such outliers in our data set. Only front camera and px height have some outliers so we remove some data after 99 percentile."
      ],
      "metadata": {
        "id": "uGZz5OrT1HH-"
      }
    },
    {
      "cell_type": "markdown",
      "source": [
        "### 4. Feature Manipulation & Selection"
      ],
      "metadata": {
        "id": "-oLEiFgy-5Pf"
      }
    },
    {
      "cell_type": "markdown",
      "source": [
        "#### 1. Feature Manipulation"
      ],
      "metadata": {
        "id": "C74aWNz2AliB"
      }
    },
    {
      "cell_type": "code",
      "source": [
        "# Manipulate Features to minimize feature correlation and create new features\n",
        "df['pixel']=df['px_height']*df['px_width']\n",
        "df['sc_size']=round(np.sqrt((df['sc_h']**2)+(df['sc_w']**2)),2)"
      ],
      "metadata": {
        "id": "h1qC4yhBApWC"
      },
      "execution_count": null,
      "outputs": []
    },
    {
      "cell_type": "code",
      "source": [
        "df.drop(columns=['px_height','px_width'],axis=1,inplace=True)\n",
        "df.drop(columns=['sc_h','sc_w'],axis=1,inplace=True)"
      ],
      "metadata": {
        "id": "2i_UXtrztFyb"
      },
      "execution_count": null,
      "outputs": []
    },
    {
      "cell_type": "markdown",
      "source": [
        "### 2. Data Scaling"
      ],
      "metadata": {
        "id": "rMDnDkt2B6du"
      }
    },
    {
      "cell_type": "code",
      "source": [
        "# Scaling your data\n",
        "dependent='price_range'\n",
        "independent=list(set(df.columns.tolist())-{dependent})"
      ],
      "metadata": {
        "id": "dL9LWpySC6x_"
      },
      "execution_count": null,
      "outputs": []
    },
    {
      "cell_type": "code",
      "source": [
        "from sklearn.preprocessing import StandardScaler\n",
        "scaler=StandardScaler()\n",
        "df[independent]=scaler.fit_transform(df[independent])"
      ],
      "metadata": {
        "id": "uCcGyMsIxWLB"
      },
      "execution_count": null,
      "outputs": []
    },
    {
      "cell_type": "code",
      "source": [
        "df[independent].head()"
      ],
      "metadata": {
        "id": "sV38k3sh1vTv"
      },
      "execution_count": null,
      "outputs": []
    },
    {
      "cell_type": "markdown",
      "source": [
        "##### Which method have you used to scale you data and why?"
      ],
      "metadata": {
        "id": "yiiVWRdJDDil"
      }
    },
    {
      "cell_type": "markdown",
      "source": [
        "### 3. selcting the data"
      ],
      "metadata": {
        "id": "1UUpS68QDMuG"
      }
    },
    {
      "cell_type": "code",
      "source": [
        "x=df[independent].values\n",
        "y=df[dependent].values"
      ],
      "metadata": {
        "id": "Oa6TiEjn3qll"
      },
      "execution_count": null,
      "outputs": []
    },
    {
      "cell_type": "markdown",
      "source": [
        "### 4. Data Splitting"
      ],
      "metadata": {
        "id": "BhH2vgX9EjGr"
      }
    },
    {
      "cell_type": "code",
      "source": [
        "# Split your data to train and test. Choose Splitting ratio wisely.\n",
        "from sklearn.model_selection import train_test_split\n",
        "x_train,x_test,y_train,y_test=train_test_split(x,y,test_size=0.2,random_state=0)\n",
        "print(x_train.shape)\n",
        "print(x_test.shape)"
      ],
      "metadata": {
        "id": "0CTyd2UwEyNM"
      },
      "execution_count": null,
      "outputs": []
    },
    {
      "cell_type": "markdown",
      "source": [
        "##### What data splitting ratio have you used and why? "
      ],
      "metadata": {
        "id": "qjKvONjwE8ra"
      }
    },
    {
      "cell_type": "markdown",
      "source": [
        "Answer Here."
      ],
      "metadata": {
        "id": "Y2lJ8cobFDb_"
      }
    },
    {
      "cell_type": "markdown",
      "source": [
        "### 5. Handling Imbalanced Dataset"
      ],
      "metadata": {
        "id": "P1XJ9OREExlT"
      }
    },
    {
      "cell_type": "code",
      "source": [
        "df['price_range'].value_counts()"
      ],
      "metadata": {
        "id": "7_tHrUKjH49-"
      },
      "execution_count": null,
      "outputs": []
    },
    {
      "cell_type": "markdown",
      "source": [
        "##### Do you think the dataset is imbalanced? Explain Why."
      ],
      "metadata": {
        "id": "VFOzZv6IFROw"
      }
    },
    {
      "cell_type": "markdown",
      "source": [
        "As i can check all the outputs are equal so data is purely balanced"
      ],
      "metadata": {
        "id": "GeKDIv7pFgcC"
      }
    },
    {
      "cell_type": "markdown",
      "source": [
        "## ***7. ML Model Implementation***"
      ],
      "metadata": {
        "id": "VfCC591jGiD4"
      }
    },
    {
      "cell_type": "markdown",
      "source": [
        "### Logistic Regression"
      ],
      "metadata": {
        "id": "OB4l2ZhMeS1U"
      }
    },
    {
      "cell_type": "code",
      "source": [
        "# ML Model - 1 Implementation\n",
        "from sklearn.linear_model import LogisticRegression\n",
        "classifier=LogisticRegression(fit_intercept=True,max_iter=1000)\n",
        "# Fit the Algorithm\n",
        "classifier.fit(x_train,y_train)\n",
        "# Predict on the model\n",
        "train_pred=classifier.predict(x_train)\n",
        "test_pred=classifier.predict(x_test)"
      ],
      "metadata": {
        "id": "7ebyywQieS1U"
      },
      "execution_count": null,
      "outputs": []
    },
    {
      "cell_type": "markdown",
      "source": [
        "#### 1. Explain the ML Model used and it's performance using Evaluation metric Score Chart."
      ],
      "metadata": {
        "id": "ArJBuiUVfxKd"
      }
    },
    {
      "cell_type": "code",
      "source": [
        "#  Evaluation Metric Score chart- Accuracy score\n",
        "from sklearn.metrics import accuracy_score,confusion_matrix,classification_report\n",
        "accuracy_score(train_pred,y_train)"
      ],
      "metadata": {
        "id": "JeoGzPX38ryO"
      },
      "execution_count": null,
      "outputs": []
    },
    {
      "cell_type": "code",
      "source": [
        "accuracy_score(test_pred,y_test)"
      ],
      "metadata": {
        "id": "iV0vG85m8sv9"
      },
      "execution_count": null,
      "outputs": []
    },
    {
      "cell_type": "code",
      "source": [
        "# Evaluation Metric Score chart- Confusion matrix\n",
        "cm_train=confusion_matrix(train_pred,y_train)\n",
        "cm_train"
      ],
      "metadata": {
        "id": "rqD5ZohzfxKe"
      },
      "execution_count": null,
      "outputs": []
    },
    {
      "cell_type": "code",
      "source": [
        "cm_test=confusion_matrix(test_pred,y_test)\n",
        "cm_test"
      ],
      "metadata": {
        "id": "xC06Iayix_0s"
      },
      "execution_count": null,
      "outputs": []
    },
    {
      "cell_type": "code",
      "source": [
        "# Ploting the confusion matrix\n",
        "ax=sns.heatmap(cm_test,annot=True,cmap='Blues')\n",
        "ax.set_title('Confusion Matrix')\n",
        "ax.set_xlabel('Actual value')\n",
        "ax.set_ylabel('Predicted value')\n",
        "ax.xaxis.set_ticklabels([0,1,2,3])\n",
        "ax.yaxis.set_ticklabels([0,1,2,3])\n",
        "plt.show()"
      ],
      "metadata": {
        "id": "OFDMVFj-yFYS"
      },
      "execution_count": null,
      "outputs": []
    },
    {
      "cell_type": "code",
      "source": [
        "#  Evaluation Metric Score chart- Classification matrix\n",
        "print(classification_report(train_pred,y_train))"
      ],
      "metadata": {
        "id": "8TN5X-Fzyo63"
      },
      "execution_count": null,
      "outputs": []
    },
    {
      "cell_type": "code",
      "source": [
        "print(classification_report(test_pred,y_test))"
      ],
      "metadata": {
        "id": "kyHhIf_6zLNr"
      },
      "execution_count": null,
      "outputs": []
    },
    {
      "cell_type": "markdown",
      "source": [
        "#### 2. Cross- Validation & Hyperparameter Tuning"
      ],
      "metadata": {
        "id": "4qY1EAkEfxKe"
      }
    },
    {
      "cell_type": "code",
      "source": [
        "# ML Model - 1 Implementation with hyperparameter optimization techniques (i.e., GridSearch CV, RandomSearch CV, Bayesian Optimization etc.)\n",
        "from sklearn.model_selection import GridSearchCV\n",
        "parameter={'penalty':['l1','l2','elasticnet'],'C':[1,2,3,5,8,10,20,30,40,50],'max_iter':[100,200,300,500,1000]}\n",
        "classifier_regressor=GridSearchCV(classifier,param_grid=parameter,scoring='accuracy',cv=5)\n",
        "# Fit the Algorithm\n",
        "classifier_regressor.fit(x_train,y_train)\n",
        "# Predict on the model\n",
        "train_cv_pred=classifier_regressor.predict(x_train)\n",
        "test_cv_pred=classifier_regressor.predict(x_test)"
      ],
      "metadata": {
        "id": "Dy61ujd6fxKe"
      },
      "execution_count": null,
      "outputs": []
    },
    {
      "cell_type": "markdown",
      "source": [
        "####3.Logistic regression model with Cross validation evaluation matrix"
      ],
      "metadata": {
        "id": "lwHmRr_z0416"
      }
    },
    {
      "cell_type": "code",
      "source": [
        "#  Evaluation Metric Score chart- Accuracy score\n",
        "accuracy_score(train_cv_pred,y_train)"
      ],
      "metadata": {
        "id": "0wcHrHvM41YA"
      },
      "execution_count": null,
      "outputs": []
    },
    {
      "cell_type": "code",
      "source": [
        "accuracy_score(test_cv_pred,y_test)"
      ],
      "metadata": {
        "id": "m_RMpfOg6nFv"
      },
      "execution_count": null,
      "outputs": []
    },
    {
      "cell_type": "code",
      "source": [
        "#  Evaluation Metric Score chart- Confusion matrix\n",
        "cm_train=confusion_matrix(train_cv_pred,y_train)\n",
        "cm_train"
      ],
      "metadata": {
        "id": "3PfZDh-E652_"
      },
      "execution_count": null,
      "outputs": []
    },
    {
      "cell_type": "code",
      "source": [
        "cm_test=confusion_matrix(test_cv_pred,y_test)\n",
        "cm_test"
      ],
      "metadata": {
        "id": "t3IKZN5C7HFe"
      },
      "execution_count": null,
      "outputs": []
    },
    {
      "cell_type": "code",
      "source": [
        "# Ploting the confusion matrix\n",
        "ax=sns.heatmap(cm_test,annot=True,cmap='Blues')\n",
        "ax.set_title('Confusion Matrix')\n",
        "ax.set_xlabel('Actual value')\n",
        "ax.set_ylabel('Predicted value')\n",
        "ax.xaxis.set_ticklabels([0,1,2,3])\n",
        "ax.yaxis.set_ticklabels([0,1,2,3])\n",
        "plt.show()"
      ],
      "metadata": {
        "id": "8OjN0vStylNj"
      },
      "execution_count": null,
      "outputs": []
    },
    {
      "cell_type": "code",
      "source": [
        "#  Evaluation Metric Score chart- Classification report\n",
        "print(classification_report(train_cv_pred,y_train))"
      ],
      "metadata": {
        "id": "I7f1MXw97Rvv"
      },
      "execution_count": null,
      "outputs": []
    },
    {
      "cell_type": "code",
      "source": [
        "print(classification_report(test_cv_pred,y_test))"
      ],
      "metadata": {
        "id": "pbuGRszG7f0f"
      },
      "execution_count": null,
      "outputs": []
    },
    {
      "cell_type": "markdown",
      "source": [
        "##### Which hyperparameter optimization technique have you used and why?"
      ],
      "metadata": {
        "id": "PiV4Ypx8fxKe"
      }
    },
    {
      "cell_type": "markdown",
      "source": [
        "I used the grid search cross validation and hyperparamer tunning to predict the better accuracy"
      ],
      "metadata": {
        "id": "negyGRa7fxKf"
      }
    },
    {
      "cell_type": "markdown",
      "source": [
        "##### Have you seen any improvement? Note down the improvement with updates Evaluation metric Score Chart."
      ],
      "metadata": {
        "id": "TfvqoZmBfxKf"
      }
    },
    {
      "cell_type": "markdown",
      "source": [
        "Before Tuning training accuarcy = 94%, test accuarcy = 91%\n",
        "Model is overfitted the data and does not generalised well. So we tuned the hyperparameters.\n",
        "After tuning: Training accuarcy= 95%, Test accuarcy = 92.5%\n",
        "we have slightly improved the model and overfitting is reduced slightly."
      ],
      "metadata": {
        "id": "OaLui8CcfxKf"
      }
    },
    {
      "cell_type": "markdown",
      "source": [
        "### Decision tree "
      ],
      "metadata": {
        "id": "dJ2tPlVmpsJ0"
      }
    },
    {
      "cell_type": "code",
      "source": [
        "# ML Model - 2 Implementation\n",
        "from sklearn.tree import DecisionTreeClassifier\n",
        "tree_classifier=DecisionTreeClassifier(criterion='entropy',max_leaf_nodes=10,random_state=0)\n",
        "# Fit the Algorithm\n",
        "tree_classifier.fit(x_train,y_train)\n"
      ],
      "metadata": {
        "id": "JaED4P_JKadr"
      },
      "execution_count": null,
      "outputs": []
    },
    {
      "cell_type": "code",
      "source": [
        "# Predict the model\n",
        "train_tree_pred=tree_classifier.predict(x_train)\n",
        "test_tree_pred=tree_classifier.predict(x_test)"
      ],
      "metadata": {
        "id": "xLuuX6AOMtnT"
      },
      "execution_count": null,
      "outputs": []
    },
    {
      "cell_type": "code",
      "source": [
        "#Plot the decision tree\n",
        "from sklearn import tree\n",
        "plt.figure(figsize=(20,12))\n",
        "tree.plot_tree(tree_classifier,filled=True)"
      ],
      "metadata": {
        "id": "k2-QyHK_LqFJ"
      },
      "execution_count": null,
      "outputs": []
    },
    {
      "cell_type": "markdown",
      "source": [
        "#### 1.  Model performance using Evaluation metric Score."
      ],
      "metadata": {
        "id": "JWYfwnehpsJ1"
      }
    },
    {
      "cell_type": "code",
      "source": [
        "# Evaluation Metric Score chart- Accuracy\n",
        "accuracy_score(train_tree_pred,y_train)"
      ],
      "metadata": {
        "id": "yEl-hgQWpsJ1"
      },
      "execution_count": null,
      "outputs": []
    },
    {
      "cell_type": "code",
      "source": [
        "accuracy_score(test_tree_pred,y_test)"
      ],
      "metadata": {
        "id": "7L1tymztNvN5"
      },
      "execution_count": null,
      "outputs": []
    },
    {
      "cell_type": "code",
      "source": [
        "# Evaluation Metric Score chart- Confusion matrix\n",
        "cm_train=confusion_matrix(train_tree_pred,y_train)\n",
        "cm_train"
      ],
      "metadata": {
        "id": "6ggJSLcmGgYy"
      },
      "execution_count": null,
      "outputs": []
    },
    {
      "cell_type": "code",
      "source": [
        "# Ploting the confusion matrix\n",
        "ax=sns.heatmap(cm_train,annot=True,cmap='Blues')\n",
        "ax.set_title('Confusion Matrix')\n",
        "ax.set_xlabel('Actual value')\n",
        "ax.set_ylabel('Predicted value')\n",
        "ax.xaxis.set_ticklabels([0,1,2,3])\n",
        "ax.yaxis.set_ticklabels([0,1,2,3])\n",
        "plt.show()"
      ],
      "metadata": {
        "id": "DHjVlcFowyTL"
      },
      "execution_count": null,
      "outputs": []
    },
    {
      "cell_type": "code",
      "source": [
        "cm_test=confusion_matrix(test_tree_pred,y_test)\n",
        "cm_test"
      ],
      "metadata": {
        "id": "b-TYjKmVGxyC"
      },
      "execution_count": null,
      "outputs": []
    },
    {
      "cell_type": "code",
      "source": [
        "# Ploting the confusion matrix\n",
        "ax=sns.heatmap(cm_test,annot=True,cmap='Blues')\n",
        "ax.set_title('Confusion Matrix')\n",
        "ax.set_xlabel('Actual value')\n",
        "ax.set_ylabel('Predicted value')\n",
        "ax.xaxis.set_ticklabels([0,1,2,3])\n",
        "ax.yaxis.set_ticklabels([0,1,2,3])\n",
        "plt.show()"
      ],
      "metadata": {
        "id": "YpVDSDPHxbCb"
      },
      "execution_count": null,
      "outputs": []
    },
    {
      "cell_type": "code",
      "source": [
        "# Evaluation Metric Score chart- classification report\n",
        "print(classification_report(train_tree_pred,y_train))"
      ],
      "metadata": {
        "id": "pYdeRRvzHI6m"
      },
      "execution_count": null,
      "outputs": []
    },
    {
      "cell_type": "code",
      "source": [
        "print(classification_report(test_tree_pred,y_test))"
      ],
      "metadata": {
        "id": "w1XXXZapHYN2"
      },
      "execution_count": null,
      "outputs": []
    },
    {
      "cell_type": "markdown",
      "source": [
        "#### 2. Cross- Validation & Hyperparameter Tuning"
      ],
      "metadata": {
        "id": "-jK_YjpMpsJ2"
      }
    },
    {
      "cell_type": "code",
      "source": [
        "# ML Model - 1 Implementation with hyperparameter optimization techniques (i.e., GridSearch CV, RandomSearch CV, Bayesian Optimization etc.)\n",
        "grid={'max_depth':[1,2,3,4,5,6,7,8,9,10,15,20],\"min_samples_leaf\":[1,2,3,4,5,10,15,20,40,60,80,100],\"max_leaf_nodes\":[10,20,30,40,50,70,100,140,150]}\n",
        "class_model=DecisionTreeClassifier()\n",
        "tree_classifier=GridSearchCV(class_model,param_grid=grid,cv=7)\n",
        "# Fit the Algorithm\n",
        "tree_classifier.fit(x_train,y_train)\n",
        "# Predict on the model\n",
        "train_tree_cv_pred=tree_classifier.predict(x_train)\n",
        "test_tree_cv_pred=tree_classifier.predict(x_test)"
      ],
      "metadata": {
        "id": "Dn0EOfS6psJ2"
      },
      "execution_count": null,
      "outputs": []
    },
    {
      "cell_type": "code",
      "source": [
        "# Best parameter\n",
        "tree_classifier.best_params_"
      ],
      "metadata": {
        "id": "k8jzMwvuD4C7"
      },
      "execution_count": null,
      "outputs": []
    },
    {
      "cell_type": "markdown",
      "source": [
        "####3.Decision tree model with cross validation performance using Evaluation metric"
      ],
      "metadata": {
        "id": "FcHmyV-P0mUB"
      }
    },
    {
      "cell_type": "code",
      "source": [
        "# Evaluation Metric Score chart- Accuracy score\n",
        "accuracy_score(train_tree_cv_pred,y_train)"
      ],
      "metadata": {
        "id": "RHpdjmOe0m0Z"
      },
      "execution_count": null,
      "outputs": []
    },
    {
      "cell_type": "code",
      "source": [
        "accuracy_score(test_tree_cv_pred,y_test)"
      ],
      "metadata": {
        "id": "Tn4o6kY2Cfqk"
      },
      "execution_count": null,
      "outputs": []
    },
    {
      "cell_type": "code",
      "source": [
        "# Evaluation Metric Score chart- Confusion matrix\n",
        "confusion_matrix(train_tree_cv_pred,y_train)"
      ],
      "metadata": {
        "id": "meRGZ9YODj7z"
      },
      "execution_count": null,
      "outputs": []
    },
    {
      "cell_type": "code",
      "source": [
        "cm_cv_test=confusion_matrix(test_tree_cv_pred,y_test)\n",
        "cm_cv_test"
      ],
      "metadata": {
        "id": "ruLBtzxnEcBS"
      },
      "execution_count": null,
      "outputs": []
    },
    {
      "cell_type": "code",
      "source": [
        "# Ploting the confusion matrix\n",
        "ax=sns.heatmap(cm_cv_test,annot=True,cmap='Blues')\n",
        "ax.set_title('Confusion Matrix')\n",
        "ax.set_xlabel('Actual value')\n",
        "ax.set_ylabel('Predicted value')\n",
        "ax.xaxis.set_ticklabels([0,1,2,3])\n",
        "ax.yaxis.set_ticklabels([0,1,2,3])\n",
        "plt.show()"
      ],
      "metadata": {
        "id": "pAPrQeTb0FMa"
      },
      "execution_count": null,
      "outputs": []
    },
    {
      "cell_type": "code",
      "source": [
        "# Evaluation Metric Score chart- Classification report\n",
        "print(classification_report(train_tree_cv_pred,y_train))"
      ],
      "metadata": {
        "id": "eJyadyAdEtra"
      },
      "execution_count": null,
      "outputs": []
    },
    {
      "cell_type": "code",
      "source": [
        "print(classification_report(test_tree_cv_pred,y_test))"
      ],
      "metadata": {
        "id": "yPopMAxtE5Z6"
      },
      "execution_count": null,
      "outputs": []
    },
    {
      "cell_type": "markdown",
      "source": [
        "##### Which hyperparameter optimization technique have you used and why?"
      ],
      "metadata": {
        "id": "HAih1iBOpsJ2"
      }
    },
    {
      "cell_type": "markdown",
      "source": [
        "I used the grid search cross validation and hyperparamer tunning to predict the better accuracy. Previously may have the overfiting the data."
      ],
      "metadata": {
        "id": "9kBgjYcdpsJ2"
      }
    },
    {
      "cell_type": "markdown",
      "source": [
        "##### Have you seen any improvement? Note down the improvement with updates Evaluation metric Score Chart."
      ],
      "metadata": {
        "id": "zVGeBEFhpsJ2"
      }
    },
    {
      "cell_type": "markdown",
      "source": [
        "Before Tuning training accuarcy = 79%, test accuarcy = 78%\n",
        "Model is overfitted the data and does not generalised well. So we tuned the hyperparameters.\n",
        "After tuning: Training accuarcy= 94%, Test accuarcy = 87.2%\n",
        "we have slightly improved the model and overfitting is reduced slightly."
      ],
      "metadata": {
        "id": "74yRdG6UpsJ3"
      }
    },
    {
      "cell_type": "markdown",
      "source": [
        "### Random Forest"
      ],
      "metadata": {
        "id": "Fze-IPXLpx6K"
      }
    },
    {
      "cell_type": "code",
      "source": [
        "# ML Model - 3 Implementation\n",
        "from sklearn.ensemble import RandomForestClassifier\n",
        "classification=RandomForestClassifier(random_state=0)\n",
        "# Fit the Algorithm\n",
        "classification.fit(x_train,y_train)\n",
        "# Predict on the model\n",
        "train_random_pred=classification.predict(x_train)\n",
        "test_random_pred=classification.predict(x_test)"
      ],
      "metadata": {
        "id": "FFrSXAtrpx6M"
      },
      "execution_count": null,
      "outputs": []
    },
    {
      "cell_type": "markdown",
      "source": [
        "#### 1. Explain the ML Model used and it's performance using Evaluation metric Score Chart."
      ],
      "metadata": {
        "id": "7AN1z2sKpx6M"
      }
    },
    {
      "cell_type": "code",
      "source": [
        "#  Evaluation Metric Score chart- Accuracy score\n",
        "accuracy_score(train_random_pred,y_train)"
      ],
      "metadata": {
        "id": "xIY4lxxGpx6M"
      },
      "execution_count": null,
      "outputs": []
    },
    {
      "cell_type": "code",
      "source": [
        "accuracy_score(test_random_pred,y_test)"
      ],
      "metadata": {
        "id": "O2r7euPcJVUP"
      },
      "execution_count": null,
      "outputs": []
    },
    {
      "cell_type": "code",
      "source": [
        "#  Evaluation Metric Score chart- Confusion matrix\n",
        "confusion_matrix(train_random_pred,y_train)"
      ],
      "metadata": {
        "id": "BHc-lnZ8J3Ln"
      },
      "execution_count": null,
      "outputs": []
    },
    {
      "cell_type": "code",
      "source": [
        "cm_test=confusion_matrix(test_random_pred,y_test)\n",
        "cm_test"
      ],
      "metadata": {
        "id": "42k8ZK4_J-Yv"
      },
      "execution_count": null,
      "outputs": []
    },
    {
      "cell_type": "code",
      "source": [
        "# Ploting the confusion matrix\n",
        "ax=sns.heatmap(cm_test,annot=True,cmap='Blues')\n",
        "ax.set_title('Confusion Matrix')\n",
        "ax.set_xlabel('Actual value')\n",
        "ax.set_ylabel('Predicted value')\n",
        "ax.xaxis.set_ticklabels([0,1,2,3])\n",
        "ax.yaxis.set_ticklabels([0,1,2,3])\n",
        "plt.show()"
      ],
      "metadata": {
        "id": "be44gvMI3bLf"
      },
      "execution_count": null,
      "outputs": []
    },
    {
      "cell_type": "code",
      "source": [
        "#  Evaluation Metric Score chart- Clasification report\n",
        "print(classification_report(train_random_pred,y_train))"
      ],
      "metadata": {
        "id": "q0Sr9TKnKGrP"
      },
      "execution_count": null,
      "outputs": []
    },
    {
      "cell_type": "code",
      "source": [
        "print(classification_report(test_random_pred,y_test))"
      ],
      "metadata": {
        "id": "3n5goWZkKdE_"
      },
      "execution_count": null,
      "outputs": []
    },
    {
      "cell_type": "markdown",
      "source": [
        "#### 2. Cross- Validation & Hyperparameter Tuning"
      ],
      "metadata": {
        "id": "9PIHJqyupx6M"
      }
    },
    {
      "cell_type": "code",
      "source": [
        "# ML Model - 3 Implementation with hyperparameter optimization techniques (i.e., GridSearch CV, RandomSearch CV, Bayesian Optimization etc.)\n",
        "grid_parameter={'criterion':['gini','entropy'],'n_estimators':[10,20,30,40,50],'max_depth':[3,5,7,10],\n",
        "                'min_samples_split':[2,4,6],'max_leaf_nodes':[None],'max_features':['auto','log2','sqrt']}\n",
        "rfc=RandomForestClassifier(random_state=0)\n",
        "# Fit the Algorithm\n",
        "rfc_grid=GridSearchCV(rfc,param_grid=grid_parameter,scoring='accuracy',cv=7,verbose=5)\n",
        "rfc_grid.fit(x_train,y_train)\n",
        "# Predict on the model\n",
        "train_random_cv_pred=rfc_grid.predict(x_train)\n",
        "test_random_cv_pred=rfc_grid.predict(x_test)"
      ],
      "metadata": {
        "id": "eSVXuaSKpx6M"
      },
      "execution_count": null,
      "outputs": []
    },
    {
      "cell_type": "markdown",
      "source": [
        "####3.Random forest model with cross validation performance using Evaluation metric"
      ],
      "metadata": {
        "id": "_-qAgymDpx6N"
      }
    },
    {
      "cell_type": "code",
      "source": [
        "# Best parameter\n",
        "rfc_grid.best_params_"
      ],
      "metadata": {
        "id": "bOB26NDvYUIN"
      },
      "execution_count": null,
      "outputs": []
    },
    {
      "cell_type": "code",
      "source": [
        "#  Evaluation Metric Score chart- Accuracy score\n",
        "accuracy_score(train_random_cv_pred,y_train)"
      ],
      "metadata": {
        "id": "6NDHa3mQR7qN"
      },
      "execution_count": null,
      "outputs": []
    },
    {
      "cell_type": "code",
      "source": [
        "accuracy_score(test_random_cv_pred,y_test)"
      ],
      "metadata": {
        "id": "c6r83Ps6R_k9"
      },
      "execution_count": null,
      "outputs": []
    },
    {
      "cell_type": "code",
      "source": [
        "#  Evaluation Metric Score chart- Confusion matrix\n",
        "confusion_matrix(train_random_cv_pred,y_train)"
      ],
      "metadata": {
        "id": "rGhmGQqeSLR2"
      },
      "execution_count": null,
      "outputs": []
    },
    {
      "cell_type": "code",
      "source": [
        "cm_test=confusion_matrix(test_random_cv_pred,y_test)\n",
        "cm_test"
      ],
      "metadata": {
        "id": "HOPlZ0_ESQ4G"
      },
      "execution_count": null,
      "outputs": []
    },
    {
      "cell_type": "code",
      "source": [
        "# Ploting the confusion matrix report\n",
        "ax=sns.heatmap(cm_test,annot=True,cmap='Blues')\n",
        "ax.set_title('Confusion Matrix')\n",
        "ax.set_xlabel('Actual value')\n",
        "ax.set_ylabel('Predicted value')\n",
        "ax.xaxis.set_ticklabels([0,1,2,3])\n",
        "ax.yaxis.set_ticklabels([0,1,2,3])\n",
        "plt.show()"
      ],
      "metadata": {
        "id": "Om7Ik4PL4OMR"
      },
      "execution_count": null,
      "outputs": []
    },
    {
      "cell_type": "code",
      "source": [
        "# Evalution martrix score chart- Classification report\n",
        "print(classification_report(train_random_cv_pred,y_train))"
      ],
      "metadata": {
        "id": "wqKgAO_5SYS2"
      },
      "execution_count": null,
      "outputs": []
    },
    {
      "cell_type": "code",
      "source": [
        "print(classification_report(test_random_cv_pred,y_test))"
      ],
      "metadata": {
        "id": "q5gxMWBSSkil"
      },
      "execution_count": null,
      "outputs": []
    },
    {
      "cell_type": "markdown",
      "source": [
        "##### Have you seen any improvement? Note down the improvement with updates Evaluation metric Score Chart."
      ],
      "metadata": {
        "id": "Z-hykwinpx6N"
      }
    },
    {
      "cell_type": "markdown",
      "source": [
        "No after used the cross validation its didnot perform well."
      ],
      "metadata": {
        "id": "MzVzZC6opx6N"
      }
    },
    {
      "cell_type": "markdown",
      "source": [
        "### Support vector machine"
      ],
      "metadata": {
        "id": "jyZcPHAgc7Ps"
      }
    },
    {
      "cell_type": "code",
      "source": [
        "# ML Model - 4 Implementation\n",
        "from sklearn import svm\n",
        "svm_classifier=svm.SVC(probability=True)\n",
        "# Fit the Algorithm\n",
        "svm_classifier.fit(x_train,y_train)\n",
        "# Predict on the model\n",
        "train_svm_pred=svm_classifier.predict(x_train)\n",
        "test_svm_pred=svm_classifier.predict(x_test)"
      ],
      "metadata": {
        "id": "LZaAv1V9dIFL"
      },
      "execution_count": null,
      "outputs": []
    },
    {
      "cell_type": "code",
      "source": [
        "#  Evaluation Metric Score chart- Accuracy score\n",
        "accuracy_score(train_svm_pred,y_train)"
      ],
      "metadata": {
        "id": "d0YFXajShFA7"
      },
      "execution_count": null,
      "outputs": []
    },
    {
      "cell_type": "code",
      "source": [
        "accuracy_score(test_svm_pred,y_test)"
      ],
      "metadata": {
        "id": "u1BKLLRAhNRT"
      },
      "execution_count": null,
      "outputs": []
    },
    {
      "cell_type": "code",
      "source": [
        "#  Evaluation Metric Score chart- Confusion matrix\n",
        "cm_train=confusion_matrix(train_svm_pred,y_train)\n",
        "cm_train"
      ],
      "metadata": {
        "id": "UmLST94ulXRy"
      },
      "execution_count": null,
      "outputs": []
    },
    {
      "cell_type": "code",
      "source": [
        "cm_test=confusion_matrix(test_svm_pred,y_test)\n",
        "cm_test"
      ],
      "metadata": {
        "id": "VChdyrLylnqa"
      },
      "execution_count": null,
      "outputs": []
    },
    {
      "cell_type": "code",
      "source": [
        "# Ploting the confusion matrix\n",
        "ax=sns.heatmap(cm_test,annot=True,cmap='Blues')\n",
        "ax.xaxis.set_ticklabels([0,1,2,3])\n",
        "ax.yaxis.set_ticklabels([0,1,2,3])\n",
        "plt.show()"
      ],
      "metadata": {
        "id": "ZD4xI4Jel3Ii"
      },
      "execution_count": null,
      "outputs": []
    },
    {
      "cell_type": "markdown",
      "source": [
        "### Comparision of all the models"
      ],
      "metadata": {
        "id": "5Sb3QPg-9qoZ"
      }
    },
    {
      "cell_type": "code",
      "source": [
        "# Creating a dictionary\n",
        "comparision_dict={'Model_name':['Logistic regression','Decision tree','Random Forest','Support vector machine'],\n",
        "                  'Training_accuracy':[0.95,0.94,0.995,0.97],'Test_accuracy':[0.93,0.87,0.85,0.87]}"
      ],
      "metadata": {
        "id": "DQeSNbHJ9w3A"
      },
      "execution_count": null,
      "outputs": []
    },
    {
      "cell_type": "code",
      "source": [
        "# Creating a dataframe\n",
        "comparision_df=pd.DataFrame(comparision_dict)"
      ],
      "metadata": {
        "id": "bmq_6CtgA-rA"
      },
      "execution_count": null,
      "outputs": []
    },
    {
      "cell_type": "code",
      "source": [
        "comparision_df"
      ],
      "metadata": {
        "id": "QeKFjYFcBLVn"
      },
      "execution_count": null,
      "outputs": []
    },
    {
      "cell_type": "code",
      "source": [
        "# Ploting the traing accuracy of different models\n",
        "plt.figure(figsize=(10,5))\n",
        "sns.barplot(data=comparision_df, x='Model_name', y='Training_accuracy', palette='ch:s=-.2,r=.6')"
      ],
      "metadata": {
        "id": "QlifMhm8C_OA"
      },
      "execution_count": null,
      "outputs": []
    },
    {
      "cell_type": "code",
      "source": [
        "# Ploting the test accuracy of different models\n",
        "plt.figure(figsize=(10,5))\n",
        "sns.barplot(data=comparision_df, x='Model_name', y='Test_accuracy', palette='ch:s=-.2,r=.6')"
      ],
      "metadata": {
        "id": "Xrw_oG0TDPVg"
      },
      "execution_count": null,
      "outputs": []
    },
    {
      "cell_type": "markdown",
      "source": [
        "### 1. Which Evaluation metrics did you consider for a positive business impact and why?"
      ],
      "metadata": {
        "id": "h_CCil-SKHpo"
      }
    },
    {
      "cell_type": "markdown",
      "source": [
        "We used different type of evaluation matrix such as accuracy score, confusion matrix and classification report. According to business you can check which matrix is important. \n",
        "Accuracy score shows the how accurate the prediction model is. And confusion matrix give the clear image of the data which includes the true positive, true negetive, false positive, false negetive. \n",
        "Classification report show the precision and recall in which you can consider for which is important for business point of view."
      ],
      "metadata": {
        "id": "jHVz9hHDKFms"
      }
    },
    {
      "cell_type": "markdown",
      "source": [
        "### 2. Which ML model did you choose from the above created models as your final prediction model and why?"
      ],
      "metadata": {
        "id": "cBFFvTBNJzUa"
      }
    },
    {
      "cell_type": "markdown",
      "source": [
        "I have created the different models such as logistic regression, decision tree, random forest and support vector machine. But as we check better model performance of logistic regression. "
      ],
      "metadata": {
        "id": "6ksF5Q1LKTVm"
      }
    },
    {
      "cell_type": "markdown",
      "source": [
        "# **Conclusion**"
      ],
      "metadata": {
        "id": "gCX9965dhzqZ"
      }
    },
    {
      "cell_type": "markdown",
      "source": [
        "From all the above graphical visualisation shows that Logistic Regression is best model for production purpose.\n",
        "As observed Logistic Regression and decision tree model performs well along with support vector machine .\n",
        "Out of all the model Logistic Regression is perform well on overall basis.\n",
        "Ram, Battery power, Mobile weight, Screen size and Pixels are key features in predicting the mobile price range."
      ],
      "metadata": {
        "id": "Fjb1IsQkh3yE"
      }
    },
    {
      "cell_type": "markdown",
      "source": [
        "### ***Hurrah! You have successfully completed your Machine Learning Capstone Project !!!***"
      ],
      "metadata": {
        "id": "gIfDvo9L0UH2"
      }
    }
  ]
}